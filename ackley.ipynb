{
 "cells": [
  {
   "cell_type": "code",
   "execution_count": 8,
   "metadata": {},
   "outputs": [],
   "source": [
    "import LinearAlgebra: I, ⋅\r\n",
    "import Base.MathConstants: φ, pi\r\n",
    "import Base: cos \r\n",
    "import Statistics: mean\r\n",
    "import FiniteDifferences\r\n",
    "abstract type DescentMethod end"
   ]
  },
  {
   "cell_type": "code",
   "execution_count": 9,
   "metadata": {},
   "outputs": [],
   "source": [
    "using PyPlot\r\n",
    "using Zygote"
   ]
  },
  {
   "cell_type": "code",
   "execution_count": 33,
   "metadata": {},
   "outputs": [
    {
     "name": "stdout",
     "output_type": "stream",
     "text": [
      "\n",
      ";  @ In[33]:7 within `f_ackley'\n",
      "; Function Attrs: uwtable\n",
      "define double @julia_f_ackley_5923(%jl_value_t* nonnull align 16 dereferenceable(40)) #0 {\n",
      "top:\n",
      "  %1 = call double @j_f_ackley_5924(%jl_value_t* nonnull %0, i64 20, double 2.000000e-01, double 0x401921FB54442D18) #0\n",
      "  ret double %1\n",
      "}\n"
     ]
    }
   ],
   "source": [
    "f_rosenbrock(x)  = 100*(x[2] - x[1]^2)^2 + (1-x[1])^2\r\n",
    "∇f_rosenbrock(x) = [\r\n",
    "    400x[1]^3 - 400x[1]*x[2] + 2x[1] - 2,\r\n",
    "    200x[2] - 200x[1]^2\r\n",
    "]\r\n",
    "# a = 20, b = 0.2 and c = 2π.\r\n",
    "f_ackley(x, a=20,b=0.2,c = 2 * pi) = -a * exp(-b * sqrt(mean(x.^2))) - exp( mean( cos.(c .* x))) + a + exp(1)\r\n",
    "∇f_ackley(x) = f_ackley'(x)\r\n",
    "\r\n",
    "f_schwefel(x) = 418.9829 * x.length - sum(x .* sin)"
   ]
  },
  {
   "cell_type": "code",
   "execution_count": null,
   "metadata": {},
   "outputs": [],
   "source": [
    "min = -32.768\r\n",
    "max = - 1* min\r\n",
    "size = 10^2\r\n",
    "x = collect(LinRange(min,max, size))\r\n",
    "\r\n",
    "y = f_ackley.(x)\r\n",
    "der = f_ackley'.(x)\r\n",
    "\r\n",
    "PyPlot.plot(x, y)\r\n",
    "# PyPlot.plot(x, der)\r\n",
    "der"
   ]
  },
  {
   "cell_type": "code",
   "execution_count": null,
   "metadata": {},
   "outputs": [],
   "source": [
    "test(x,y) = x * y\r\n",
    "min = -32.768\r\n",
    "max = - 1* min\r\n",
    "size = 10^2\r\n",
    "x = collect(LinRange(min,max, size))\r\n",
    "y = collect(LinRange(min,max, size))\r\n",
    "\r\n",
    "z = zeros(size,size)\r\n",
    "for (num_i, i) = enumerate(x)\r\n",
    "  for (num_j, j) = enumerate(y)\r\n",
    "    z[num_i, num_j] = f_ackley([i j])\r\n",
    "    # println(\"$(num_i);$(num_j)\")\r\n",
    "  end\r\n",
    "end\r\n",
    "\r\n",
    "PyPlot.surf(x, y, z)"
   ]
  },
  {
   "cell_type": "code",
   "execution_count": null,
   "metadata": {},
   "outputs": [],
   "source": [
    "min = -32.768\r\n",
    "max = - 1* min\r\n",
    "size = 10^2\r\n",
    "x = collect(LinRange(min,max, size))\r\n",
    "y = collect(LinRange(min,max, size))\r\n",
    "\r\n",
    "z = zeros(size,size)\r\n",
    "for (num_i, i) = enumerate(x)\r\n",
    "  for (num_j, j) = enumerate(y)\r\n",
    "    z[num_i, num_j] = f_ackley([i j])\r\n",
    "  end\r\n",
    "end\r\n",
    "\r\n",
    "PyPlot.surf(x, y, z)"
   ]
  }
 ],
 "metadata": {
  "kernelspec": {
   "display_name": "Julia 1.5.3",
   "language": "julia",
   "name": "julia-1.5"
  },
  "language_info": {
   "name": "julia",
   "version": ""
  },
  "orig_nbformat": 2
 },
 "nbformat": 4,
 "nbformat_minor": 2
}