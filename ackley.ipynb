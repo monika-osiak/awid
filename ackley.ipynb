{
 "cells": [
  {
   "cell_type": "code",
   "execution_count": 8,
   "metadata": {},
   "outputs": [],
   "source": [
    "import LinearAlgebra: I, ⋅\r\n",
    "import Base.MathConstants: φ, pi\r\n",
    "import Base: cos \r\n",
    "import Statistics: mean\r\n",
    "import FiniteDifferences\r\n",
    "abstract type DescentMethod end"
   ]
  },
  {
   "cell_type": "code",
   "execution_count": 9,
   "metadata": {},
   "outputs": [],
   "source": [
    "using PyPlot\r\n",
    "using Zygote"
   ]
  },
  {
   "cell_type": "code",
   "execution_count": 18,
   "metadata": {},
   "outputs": [
    {
     "name": "stdout",
     "output_type": "stream",
     "text": [
      "[2.6812801841425493, NaN, 3.2749230123119237, 2.6812801841425493, 2.1952465443760927, 1.7973158564688696, 1.4715177646857485]\n"
     ]
    },
    {
     "data": {
      "text/plain": "([-3198, 800], [-3198, 800])"
     },
     "execution_count": 18,
     "metadata": {},
     "output_type": "execute_result"
    }
   ],
   "source": [
    "f_rosenbrock(x)  = 100*(x[2] - x[1]^2)^2 + (1-x[1])^2\r\n",
    "∇f_rosenbrock(x) = [\r\n",
    "    400x[1]^3 - 400x[1]*x[2] + 2x[1] - 2,\r\n",
    "    200x[2] - 200x[1]^2\r\n",
    "]\r\n",
    "# a = 20, b = 0.2 and c = 2π.\r\n",
    "f_ackley(x, a=20,b=0.2,c = 2 * pi) = -a * exp(-b * sqrt(mean(x.^2))) - exp( mean( cos.(c .* x))) + a + exp(1)\r\n",
    "\r\n",
    " p = [2]\r\n",
    "for i in 0:5\r\n",
    "  push!(p,i)\r\n",
    "end\r\n",
    "  l = f_ackley'.(p)\r\n",
    "  println(l)\r\n",
    "\r\n",
    "t = ∇f_rosenbrock([2, 8])\r\n",
    "r = f_rosenbrock'([2, 8])\r\n",
    "(t,r)"
   ]
  },
  {
   "cell_type": "code",
   "execution_count": null,
   "metadata": {},
   "outputs": [],
   "source": [
    "min = -32.768\r\n",
    "max = - 1* min\r\n",
    "size = 10^2\r\n",
    "x = collect(LinRange(min,max, size))\r\n",
    "\r\n",
    "y = f_ackley.(x)\r\n",
    "der = f_ackley'.(x)\r\n",
    "\r\n",
    "PyPlot.plot(x, y)\r\n",
    "# PyPlot.plot(x, der)\r\n",
    "der"
   ]
  },
  {
   "cell_type": "code",
   "execution_count": null,
   "metadata": {},
   "outputs": [],
   "source": [
    "test(x,y) = x * y\r\n",
    "min = -32.768\r\n",
    "max = - 1* min\r\n",
    "size = 10^2\r\n",
    "x = collect(LinRange(min,max, size))\r\n",
    "y = collect(LinRange(min,max, size))\r\n",
    "\r\n",
    "z = zeros(size,size)\r\n",
    "for (num_i, i) = enumerate(x)\r\n",
    "  for (num_j, j) = enumerate(y)\r\n",
    "    z[num_i, num_j] = f_ackley([i j])\r\n",
    "    # println(\"$(num_i);$(num_j)\")\r\n",
    "  end\r\n",
    "end\r\n",
    "\r\n",
    "PyPlot.surf(x, y, z)"
   ]
  },
  {
   "cell_type": "code",
   "execution_count": null,
   "metadata": {},
   "outputs": [],
   "source": [
    "min = -32.768\r\n",
    "max = - 1* min\r\n",
    "size = 10^2\r\n",
    "x = collect(LinRange(min,max, size))\r\n",
    "y = collect(LinRange(min,max, size))\r\n",
    "\r\n",
    "z = zeros(size,size)\r\n",
    "for (num_i, i) = enumerate(x)\r\n",
    "  for (num_j, j) = enumerate(y)\r\n",
    "    z[num_i, num_j] = f_ackley([i j])\r\n",
    "  end\r\n",
    "end\r\n",
    "\r\n",
    "PyPlot.surf(x, y, z)"
   ]
  }
 ],
 "metadata": {
  "kernelspec": {
   "display_name": "Julia 1.5.3",
   "name": "julia-1.5"
  },
  "language_info": {
   "file_extension": ".jl",
   "mimetype": "application/julia",
   "name": "julia",
   "version": "1.5.3"
  },
  "orig_nbformat": 2
 },
 "nbformat": 4,
 "nbformat_minor": 2
}