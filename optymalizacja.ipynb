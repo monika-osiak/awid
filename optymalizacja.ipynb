{
 "cells": [
  {
   "cell_type": "code",
   "execution_count": 1,
   "metadata": {},
   "outputs": [],
   "source": [
    "import LinearAlgebra: I, ⋅\n",
    "import Base.MathConstants: φ\n",
    "abstract type DescentMethod end"
   ]
  },
  {
   "cell_type": "markdown",
   "metadata": {},
   "source": [
    "# Metody optymalizacji"
   ]
  },
  {
   "cell_type": "markdown",
   "metadata": {},
   "source": [
    "## Metoda najszybszego spadku z bezwładnością"
   ]
  },
  {
   "cell_type": "code",
   "execution_count": 2,
   "metadata": {},
   "outputs": [
    {
     "data": {
      "text/plain": [
       "step! (generic function with 1 method)"
      ]
     },
     "execution_count": 2,
     "metadata": {},
     "output_type": "execute_result"
    }
   ],
   "source": [
    "mutable struct Momentum <: DescentMethod\n",
    "  α # learning rate\n",
    "  β # momentum decay\n",
    "  v # momentum\n",
    "end\n",
    "Momentum(α, β, n::Integer) = Momentum(α, β, zeros(n))\n",
    "\n",
    "function step!(M::Momentum, f, ∇f, x) \n",
    "  α, β, v, g = M.α, M.β, M.v, ∇f(x)\n",
    "  v[:] = β*v .- α*g\n",
    "  return x + v\n",
    "end"
   ]
  },
  {
   "cell_type": "markdown",
   "metadata": {},
   "source": [
    "## BFGS"
   ]
  },
  {
   "cell_type": "code",
   "execution_count": 3,
   "metadata": {},
   "outputs": [
    {
     "data": {
      "text/plain": [
       "step! (generic function with 2 methods)"
      ]
     },
     "execution_count": 3,
     "metadata": {},
     "output_type": "execute_result"
    }
   ],
   "source": [
    "mutable struct BFGS <: DescentMethod\n",
    "  Q\n",
    "end\n",
    "BFGS(n::Integer) = BFGS(Matrix(1.0I, n, n))\n",
    "\n",
    "function strong_backtracking(f, ∇, x, d; α=1, β=1e-4, σ=0.1)\n",
    "  y0, g0, y_prev, α_prev = f(x), ∇(x)⋅d, NaN, 0\n",
    "  αlo, αhi = NaN, NaN\n",
    "  # bracket phase\n",
    "  while true\n",
    "    y = f(x + α*d)\n",
    "    if y > y0 + β*α*g0 || (!isnan(y_prev) && y ≥ y_prev)\n",
    "      αlo, αhi = α_prev, α\n",
    "      break\n",
    "    end\n",
    "    g = ∇(x + α*d)⋅d\n",
    "    if abs(g) ≤ -σ*g0\n",
    "      return α\n",
    "    elseif g ≥ 0\n",
    "      αlo, αhi = α, α_prev\n",
    "      break\n",
    "    end\n",
    "    y_prev, α_prev, α = y, α, 2α\n",
    "  end\n",
    "  # zoom phase\n",
    "  ylo = f(x + αlo*d)\n",
    "  while true\n",
    "    α = (αlo + αhi)/2\n",
    "    y = f(x + α*d)\n",
    "    if y > y0 + β*α*g0 || y ≥ ylo\n",
    "      αhi = α\n",
    "    else\n",
    "      g = ∇(x + α*d)⋅d\n",
    "      if abs(g) ≤ -σ*g0\n",
    "        return α\n",
    "      elseif g*(αhi - αlo) ≥ 0\n",
    "        αhi = αlo\n",
    "      end\n",
    "      αlo = α\n",
    "    end\n",
    "  end\n",
    "end\n",
    "\n",
    "function step!(M::BFGS, f, ∇f, x)\n",
    "  if f(x) ≈ 0.0\n",
    "    return x\n",
    "  end\n",
    "\n",
    "  Q, g = M.Q, ∇f(x)\n",
    "  α = strong_backtracking(f, ∇f, x, -Q*g)\n",
    "  x′ = x + α*(-Q*g)\n",
    "  g′ = ∇f(x′)\n",
    "  δ = x′ - x\n",
    "  γ = g′ - g\n",
    "  Q[:] = Q - (δ*γ'*Q + Q*γ*δ')/(δ'*γ) + (1 + (γ'*Q*γ)/(δ'*γ))[1]*(δ*δ')/(δ'*γ)\n",
    "  return x′\n",
    "end"
   ]
  },
  {
   "cell_type": "markdown",
   "metadata": {},
   "source": [
    "## L-BFGS"
   ]
  },
  {
   "cell_type": "code",
   "execution_count": 35,
   "metadata": {},
   "outputs": [
    {
     "data": {
      "text/plain": [
       "step! (generic function with 2 methods)"
      ]
     },
     "execution_count": 35,
     "metadata": {},
     "output_type": "execute_result"
    }
   ],
   "source": [
    "using LinearAlgebra\n",
    "\n",
    "mutable struct LBFGS\n",
    "  m\n",
    "  δs\n",
    "  γs\n",
    "  qs\n",
    "  LBFGS() = new()\n",
    "end\n",
    "\n",
    "function init!(M::LBFGS, m) \n",
    "  M.m = m\n",
    "  M.δs = [] \n",
    "  M.γs = [] \n",
    "  M.qs = []\n",
    "  return M\n",
    "end\n",
    "\n",
    "function step!(M::LBFGS, f, ∇f, θ) \n",
    "    δs, γs, qs = M.δs, M.γs, M.qs \n",
    "    m, g = length(δs), ∇f(θ)\n",
    "    d = -g\n",
    "    if m > 0 \n",
    "        q = g\n",
    "        for i in m:-1:1\n",
    "            qs[i] = copy(q)\n",
    "            q -= (δs[i]⋅q) / (γs[i]⋅δs[i]) * γs[i]\n",
    "        end\n",
    "        z = (γs[m] .* δs[m] .* q) / (γs[m]⋅γs[m]) \n",
    "        for i in 1:+1:m\n",
    "            z += δs[i]*(δs[i]⋅qs[i]-γs[i]⋅z)/(γs[i]⋅δs[i]) \n",
    "        end\n",
    "        d = -z;\n",
    "    end\n",
    "    φ =α-> f(θ+α*d); φ′=α->∇f(θ+α*d)⋅d \n",
    "    α = line_search(φ, φ′, d)\n",
    "    θ′ = θ + α*d; g′ = ∇f(θ′)\n",
    "    δ =θ′-θ;γ =g′-g\n",
    "    push!(δs, δ); push!(γs, γ); push!(qs, zero(θ)) \n",
    "    while length(δs) > M.m\n",
    "        popfirst!(δs); popfirst!(γs); popfirst!(qs) \n",
    "    end\n",
    "    return θ′ \n",
    "end"
   ]
  },
  {
   "cell_type": "markdown",
   "metadata": {},
   "source": [
    "# Test"
   ]
  },
  {
   "cell_type": "code",
   "execution_count": 44,
   "metadata": {},
   "outputs": [
    {
     "ename": "LoadError",
     "evalue": "UndefRefError: access to undefined reference",
     "output_type": "error",
     "traceback": [
      "UndefRefError: access to undefined reference",
      "",
      "Stacktrace:",
      " [1] getproperty",
      "   @ ./Base.jl:33 [inlined]",
      " [2] step!(M::LBFGS, f::var\"#f#71\", ∇f::var\"#∇f#72\", θ::Vector{Float64})",
      "   @ Main ./In[35]:20",
      " [3] main()",
      "   @ Main ./In[44]:14",
      " [4] top-level scope",
      "   @ In[44]:20",
      " [5] eval",
      "   @ ./boot.jl:360 [inlined]",
      " [6] include_string(mapexpr::typeof(REPL.softscope), mod::Module, code::String, filename::String)",
      "   @ Base ./loading.jl:1094"
     ]
    }
   ],
   "source": [
    "function main()\n",
    "    f(x)  = 100*(x[2] - x[1]^2)^2 + (1-x[1])^2 # funkcja\n",
    "    ∇f(x) = [400x[1]^3 - 400x[1]*x[2] + 2x[1] - 2,\n",
    "        200x[2] - 200x[1]^2] # pochodne\n",
    "    \n",
    "    x₀  = [1.1, 2.0] # wektor początkowy x\n",
    "    pts = [x₀] # tutaj zbieramy kolejne wektory x\n",
    "    val = Float64[] # tutaj zbieramy wartości f. straty\n",
    "    # opt = BFGS(2) # optymalizator\n",
    "    # opt = Momentum(0.001, 0.00001, 2)\n",
    "    opt = LBFGS()\n",
    "    for i=1:25\n",
    "        push!(val, f(pts[end])) # odłóż wynik funkcji dla najnowszych x (chcemy żeby 0)\n",
    "        push!(pts, step!(opt, f, ∇f, pts[end])) # odłóż nowe x - nowe x to wynik step\n",
    "    end\n",
    "\n",
    "    pts, val\n",
    "end\n",
    "\n",
    "pts, val = main()\n",
    "val"
   ]
  },
  {
   "cell_type": "code",
   "execution_count": 33,
   "metadata": {},
   "outputs": [
    {
     "data": {
      "text/plain": [
       "26-element Vector{Vector{Float64}}:\n",
       " [1.1, 2.0]\n",
       " [1.4474, 1.842]\n",
       " [1.3000510386304, 1.892591772]\n",
       " [1.4047323122140916, 1.8521004641265164]\n",
       " [1.3358379774247768, 1.876334540183804]\n",
       " [1.384255755030436, 1.8579604948738675]\n",
       " [1.3512603155077207, 1.8696010112256174]\n",
       " [1.3741756418268958, 1.8608618134388624]\n",
       " [1.3583133019746658, 1.8663611022771842]\n",
       " [1.3691943803136428, 1.8620919420788997]\n",
       " [1.3615546437748907, 1.86461216118801]\n",
       " [1.3667030879886406, 1.862455963749593]\n",
       " [1.3630059737065408, 1.8635402155812373]\n",
       " [1.365417527041267, 1.8623892401794513]\n",
       " [1.363607608622858, 1.8627843852641048]\n",
       " [1.3647123412039972, 1.8621126542215645]\n",
       " [1.3638043576814343, 1.8621780715068401]\n",
       " [1.3642854772204929, 1.861734923065819]\n",
       " [1.3638079721902345, 1.8616429066921203]\n",
       " [1.363991768890755, 1.8613087614354604]\n",
       " [1.3637194781999222, 1.861141714927262]\n",
       " [1.3637616650846283, 1.860859533315718]\n",
       " [1.3635870952510727, 1.8606567996616379]\n",
       " [1.3635619121288758, 1.8603993909690253]\n",
       " [1.3634338295776516, 1.8601797278428445]\n",
       " [1.3633766358172585, 1.8599341416050004]"
      ]
     },
     "execution_count": 33,
     "metadata": {},
     "output_type": "execute_result"
    }
   ],
   "source": [
    "pts"
   ]
  },
  {
   "cell_type": "code",
   "execution_count": null,
   "metadata": {},
   "outputs": [],
   "source": []
  }
 ],
 "metadata": {
  "kernelspec": {
   "display_name": "Julia 1.6.1",
   "language": "julia",
   "name": "julia-1.6"
  },
  "language_info": {
   "file_extension": ".jl",
   "mimetype": "application/julia",
   "name": "julia",
   "version": "1.6.1"
  }
 },
 "nbformat": 4,
 "nbformat_minor": 4
}
