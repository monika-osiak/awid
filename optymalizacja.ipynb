{
 "cells": [
  {
   "cell_type": "code",
   "execution_count": 1,
   "metadata": {},
   "outputs": [],
   "source": [
    "import LinearAlgebra: I, ⋅\r\n",
    "import Base.MathConstants: φ, pi\r\n",
    "import Base: cos ,Iterators\r\n",
    "import Statistics: mean\r\n",
    "abstract type DescentMethod end"
   ]
  },
  {
   "cell_type": "code",
   "execution_count": 2,
   "metadata": {},
   "outputs": [],
   "source": [
    "using PyPlot\r\n",
    "using BenchmarkTools\r\n",
    "using Zygote"
   ]
  },
  {
   "cell_type": "markdown",
   "metadata": {},
   "source": [
    "# Metody optymalizacji"
   ]
  },
  {
   "cell_type": "markdown",
   "metadata": {},
   "source": [
    "## Metoda najszybszego spadku z bezwładnością"
   ]
  },
  {
   "cell_type": "code",
   "execution_count": 15,
   "metadata": {},
   "outputs": [
    {
     "data": {
      "text/plain": "step! (generic function with 4 methods)"
     },
     "execution_count": 15,
     "metadata": {},
     "output_type": "execute_result"
    }
   ],
   "source": [
    "mutable struct Momentum <: DescentMethod\r\n",
    "  α#::Array{Float64} # learning rate\r\n",
    "  β#::Array{Float64} # momentum decay\r\n",
    "  v#::Float64# momentum\r\n",
    "end\r\n",
    "\r\n",
    "Momentum(α, β, n::Integer) = Momentum(α, β, zeros(n))\r\n",
    "\r\n",
    "function step!(M::Momentum, f, ∇f, x::Array{Float64}, debug=false) \r\n",
    "  α, β, v, g = M.α, M.β, M.v, ∇f(x)\r\n",
    "  if debug\r\n",
    "    println(\"Gradient: \", g)\r\n",
    "    println(M)\r\n",
    "  end\r\n",
    "  v[:]  = β*v .- α*g\r\n",
    "  return x + v\r\n",
    "end"
   ]
  },
  {
   "cell_type": "markdown",
   "metadata": {},
   "source": [
    "## BFGS"
   ]
  },
  {
   "cell_type": "code",
   "execution_count": 4,
   "metadata": {},
   "outputs": [
    {
     "data": {
      "text/plain": "step! (generic function with 3 methods)"
     },
     "execution_count": 4,
     "metadata": {},
     "output_type": "execute_result"
    }
   ],
   "source": [
    "mutable struct BFGS <: DescentMethod\n",
    "  Q\n",
    "end\n",
    "BFGS(n::Integer) = BFGS(Matrix(1.0I, n, n))\n",
    "\n",
    "function strong_backtracking(f, ∇, x, d; α=1, β=1e-4, σ=0.1)\n",
    "  y0, g0, y_prev, α_prev = f(x), ∇(x)⋅d, NaN, 0\n",
    "  αlo, αhi = NaN, NaN\n",
    "  # bracket phase\n",
    "  while true\n",
    "    y = f(x + α*d)\n",
    "    if y > y0 + β*α*g0 || (!isnan(y_prev) && y ≥ y_prev)\n",
    "      αlo, αhi = α_prev, α\n",
    "      break\n",
    "    end\n",
    "    g = ∇(x + α*d)⋅d\n",
    "    if abs(g) ≤ -σ*g0\n",
    "      return α\n",
    "    elseif g ≥ 0\n",
    "      αlo, αhi = α, α_prev\n",
    "      break\n",
    "    end\n",
    "    y_prev, α_prev, α = y, α, 2α\n",
    "  end\n",
    "  # zoom phase\n",
    "  ylo = f(x + αlo*d)\n",
    "  while true\n",
    "    α = (αlo + αhi)/2\n",
    "    y = f(x + α*d)\n",
    "    if y > y0 + β*α*g0 || y ≥ ylo\n",
    "      αhi = α\n",
    "    else\n",
    "      g = ∇(x + α*d)⋅d\n",
    "      if abs(g) ≤ -σ*g0\n",
    "        return α\n",
    "      elseif g*(αhi - αlo) ≥ 0\n",
    "        αhi = αlo\n",
    "      end\n",
    "      αlo = α\n",
    "    end\n",
    "  end\n",
    "end\n",
    "\n",
    "function step!(M::BFGS, f, ∇f, x)\n",
    "  if f(x) ≈ 0.0\n",
    "    return x\n",
    "  end\n",
    "\n",
    "  Q, g = M.Q, ∇f(x)\n",
    "  α = strong_backtracking(f, ∇f, x, -Q*g)\n",
    "  x′ = x + α*(-Q*g)\n",
    "  g′ = ∇f(x′)\n",
    "  δ = x′ - x\n",
    "  γ = g′ - g\n",
    "  Q[:] = Q - (δ*γ'*Q + Q*γ*δ')/(δ'*γ) + (1 + (γ'*Q*γ)/(δ'*γ))[1]*(δ*δ')/(δ'*γ)\n",
    "  return x′\n",
    "end"
   ]
  },
  {
   "cell_type": "code",
   "execution_count": null,
   "metadata": {},
   "outputs": [],
   "source": []
  },
  {
   "cell_type": "markdown",
   "metadata": {},
   "source": [
    "## L-BFGS"
   ]
  },
  {
   "cell_type": "code",
   "execution_count": 60,
   "metadata": {},
   "outputs": [
    {
     "data": {
      "text/plain": "step! (generic function with 4 methods)"
     },
     "execution_count": 60,
     "metadata": {},
     "output_type": "execute_result"
    }
   ],
   "source": [
    "using LinearAlgebra\r\n",
    "\r\n",
    "mutable struct LBFGS\r\n",
    "  m::Float64\r\n",
    "  δs#::Array{Float64}\r\n",
    "  γs#::Array{Float64}\r\n",
    "  qs#::Array{Float64}\r\n",
    "  LBFGS() = new()\r\n",
    "end\r\n",
    "\r\n",
    "function init!(M::LBFGS, m) \r\n",
    "  M.m = m\r\n",
    "  M.δs = [] \r\n",
    "  M.γs = [] \r\n",
    "  M.qs = []\r\n",
    "  return M\r\n",
    "end\r\n",
    "\r\n",
    "function step!(M::LBFGS, f, ∇f, θ) \r\n",
    "    δs, γs, qs = M.δs, M.γs, M.qs \r\n",
    "    m, g = length(δs), ∇f(θ)\r\n",
    "    d = -g # kierunek\r\n",
    "    # if isnan(g)\r\n",
    "        # there is no dericative at θ\r\n",
    "        # we can't progress any further\r\n",
    "        # posibli move in random direction\r\n",
    "        # return θ || (!isnan(y_prev) && y ≥ y_prev)\r\n",
    "    if m > 0 \r\n",
    "        q = g\r\n",
    "        for i in m:-1:1\r\n",
    "            qs[i] = copy(q)\r\n",
    "            q -= (δs[i]⋅q) / (γs[i]⋅δs[i]) * γs[i]\r\n",
    "        end\r\n",
    "        z = (γs[m] .* δs[m] .* q) / (γs[m]⋅γs[m]) \r\n",
    "        for i in 1:+1:m\r\n",
    "            z += δs[i]*(δs[i]⋅qs[i]-γs[i]⋅z)/(γs[i]⋅δs[i]) \r\n",
    "        end\r\n",
    "        d = -z; # rekonstrukcja kierunku\r\n",
    "    end\r\n",
    "    φ =α-> f(θ+α*d); φ′=α->∇f(θ+α*d)⋅d \r\n",
    "    α = line_search(φ, φ′, d)\r\n",
    "    θ′ = θ + α*d; g′ = ∇f(θ′) # nowy wektor\r\n",
    "    δ =θ′-θ;γ =g′-g\r\n",
    "    push!(δs, δ);\r\n",
    "    push!(γs, γ);\r\n",
    "    push!(qs, zero(θ)) \r\n",
    "    while length(δs) > M.m\r\n",
    "        popfirst!(δs); popfirst!(γs); popfirst!(qs) \r\n",
    "    end\r\n",
    "    return θ′ \r\n",
    "end"
   ]
  },
  {
   "cell_type": "code",
   "execution_count": 6,
   "metadata": {},
   "outputs": [
    {
     "data": {
      "text/plain": "line_search (generic function with 6 methods)"
     },
     "execution_count": 6,
     "metadata": {},
     "output_type": "execute_result"
    }
   ],
   "source": [
    "function zoom(φ, φ′, αlo, αhi, c1=1e-4, c2=0.1, jmax=1000)\n",
    "    φ′0 = φ′(0.0) \n",
    "    for j=1:jmax\n",
    "        αj = 0.5(αlo + αhi) # bisection \n",
    "        φαj = φ(αj)\n",
    "        if φαj > φ(0.0) + c1*αj*φ′0 || φαj ≥ φ(αlo)\n",
    "            αhi = αj \n",
    "        else\n",
    "            φ′αj = φ′(αj)\n",
    "            if abs(φ′αj) ≤ -c2*φ′0\n",
    "                return αj\n",
    "            end\n",
    "            if φ′αj*(αhi - αlo) ≥ 0.0 \n",
    "                αhi = αlo\n",
    "            end\n",
    "            αlo = αj \n",
    "        end\n",
    "    end\n",
    "    return 0.5(αlo + αhi) \n",
    "end\n",
    "\n",
    "function line_search(φ, φ′, d, c1=1e-4, c2=0.1, ρ=0.1, αmax=100., jmax=1000)\n",
    "    αi, αj = 0.0, 1.0\n",
    "    φαi, φ0, φ′0 = φ(αi), φ(0.0), φ′(0.0) \n",
    "    for j=1:jmax\n",
    "        φαj = φ(αj)\n",
    "        if φαj > φ0 + c1*αj*φ′0 || (φαj ≥ φαi && j > 1)\n",
    "            return zoom(φ, φ′, αi, αj)\n",
    "        end\n",
    "        φ′αj = φ′(αj)\n",
    "        if abs(φ′αj) ≤ -c2*φ′0\n",
    "            return αj \n",
    "        end\n",
    "        if φ′αj ≥ 0.0\n",
    "            return zoom(φ, φ′, αj, αi)\n",
    "        end\n",
    "        αi, αj = αj, ρ*αj + (1.0 - ρ)*αmax\n",
    "        φαi = φαj \n",
    "    end\n",
    "    return αj \n",
    "end"
   ]
  },
  {
   "cell_type": "code",
   "execution_count": null,
   "metadata": {},
   "outputs": [],
   "source": []
  },
  {
   "cell_type": "markdown",
   "metadata": {},
   "source": [
    "# Test Set up"
   ]
  },
  {
   "cell_type": "markdown",
   "metadata": {},
   "source": [
    "## Functions"
   ]
  },
  {
   "cell_type": "code",
   "execution_count": 7,
   "metadata": {},
   "outputs": [
    {
     "data": {
      "text/plain": "2-element Array{Float64,1}:\n 3.0\n 2.4"
     },
     "execution_count": 7,
     "metadata": {},
     "output_type": "execute_result"
    }
   ],
   "source": [
    "f_beale(x) = (1.5 - x[1] + x[1]*x[2])^2 + (2.25 - x[1] + x[1]*x[2]^2)^2 + (2.625 - x[1] + x[1]*x[2]^3)^2\r\n",
    "∇f_beale(x) = [\r\n",
    "    2*x[1]*(x[2]^6 + x[2]^4 - 2*x[2]^3 - x[2]^2 - 2*x[2] + 3) + 5.25*x[2]^3 + 4.5*x[2]^2 + 3*x[2] - 12.75, \r\n",
    "    6*x[1]*(x[1]*(x[2]^5 + 0.666667*x[2]^3 - x[2]^2 - 0.333333*x[2] - 0.333333) + 2.625*x[2]^2 + 1.5x[2] + 0.5)\r\n",
    "]\r\n",
    "\r\n",
    "f_rosenbrock(x)  = 100*(x[2] - x[1]^2)^2 + (1-x[1])^2\r\n",
    "∇f_rosenbrock(x) = [\r\n",
    "    400x[1]^3 - 400x[1]*x[2] + 2x[1] - 2,\r\n",
    "    200x[2] - 200x[1]^2\r\n",
    "]\r\n",
    "# a = 20, b = 0.2 and c = 2π.\r\n",
    "f_ackley(x, a=20,b=0.2,c = 2 * pi) = -a * exp(-b * sqrt(mean(x.^2))) - exp( mean( cos.(c .* x))) + a + exp(1)\r\n",
    "∇f_ackley(x) = f_ackley'(x)\r\n",
    "\r\n",
    "x = [3.0, 2.4]"
   ]
  },
  {
   "cell_type": "markdown",
   "metadata": {},
   "source": [
    "# Test"
   ]
  },
  {
   "cell_type": "code",
   "execution_count": 19,
   "metadata": {},
   "outputs": [
    {
     "data": {
      "text/plain": "optimalize (generic function with 2 methods)"
     },
     "execution_count": 19,
     "metadata": {},
     "output_type": "execute_result"
    }
   ],
   "source": [
    "function optimalize(f, ∇f, x₀, opt, e, i, debug=false)\r\n",
    "    pts = [x₀] # kolejne wektory x\r\n",
    "    err = Float64[] # kolejne wartości f. straty\r\n",
    "    p = 0\r\n",
    "    while true\r\n",
    "        prev = f(pts[end])\r\n",
    "        push!(err, prev) # odłóż wynik funkcji dla najnowszego wektora x (miara błędu)\r\n",
    "        if debug \r\n",
    "            println(\"Iteracja p=\", p)\r\n",
    "            println(\"Wektor x: \", pts[end])\r\n",
    "            println(\"Error: \", err[end])\r\n",
    "            println()\r\n",
    "        end\r\n",
    "        if prev < e || isnan(prev)  || p > i \r\n",
    "            break\r\n",
    "        end\r\n",
    "        # if length(pts) > 1 && pts[end] == pts[end-1]\r\n",
    "        # break # when we stop to progress\r\n",
    "        push!(pts, step!(opt, f, ∇f, pts[end]))\r\n",
    "        p += 1\r\n",
    "    end\r\n",
    "    \r\n",
    "    pts, err, p\r\n",
    "end"
   ]
  },
  {
   "cell_type": "markdown",
   "metadata": {},
   "source": [
    "## ty\r\n"
   ]
  },
  {
   "cell_type": "code",
   "execution_count": 17,
   "metadata": {},
   "outputs": [
    {
     "name": "stdout",
     "output_type": "stream",
     "text": [
      "Liczba iteracji: 20\n",
      "Wektor x wynikowy: [0.9933245206924979, 0.9864200092686151]\n",
      "Błąd: 5.2047399349124887e-5\n"
     ]
    }
   ],
   "source": [
    "bfgs = BFGS(2)\r\n",
    "\r\n",
    "pts, err, i = optimalize(f_rosenbrock, ∇f_rosenbrock, x, bfgs, 0.0001, 100, false)\r\n",
    "println(\"Liczba iteracji: \", i)\r\n",
    "println(\"Wektor x wynikowy: \", pts[end])\r\n",
    "println(\"Błąd: \", err[end])\r\n",
    "# println(info)"
   ]
  },
  {
   "cell_type": "code",
   "execution_count": 70,
   "metadata": {},
   "outputs": [
    {
     "name": "stdout",
     "output_type": "stream",
     "text": [
      "Liczba iteracji: 7\n",
      "Wektor x wynikowy: [NaN, NaN]\n",
      "Błąd: NaN\n"
     ]
    }
   ],
   "source": [
    "lbfgs = LBFGS(); init!(lbfgs, 7)\r\n",
    "\r\n",
    "pts, err, i = optimalize(f_rosenbrock, ∇f_rosenbrock, x, lbfgs, 0.0001, 100)\r\n",
    "println(\"Liczba iteracji: \", i)\r\n",
    "println(\"Wektor x wynikowy: \", pts[end])\r\n",
    "println(\"Błąd: \", err[end])"
   ]
  },
  {
   "cell_type": "code",
   "execution_count": 39,
   "metadata": {},
   "outputs": [
    {
     "name": "stdout",
     "output_type": "stream",
     "text": [
      "Momentum(1.0e-14, 0.01, [0.0, 0.0])\n",
      "Liczba iteracji: 101\n",
      "Wektor x wynikowy: [2.9999999938753064, 4.000000001020124]\n",
      "Błąd: 2503.999962207215\n"
     ]
    }
   ],
   "source": [
    "# weird stuff happens here\r\n",
    "x = [3.0,4.0]\r\n",
    "f = f_rosenbrock\r\n",
    "∇f = ∇f_rosenbrock\r\n",
    "momentum = Momentum(0.00000000000001, 0.01, 2)\r\n",
    "\r\n",
    "pts, err, i = optimalize(f, ∇f, x, momentum, 0.01, 100)\r\n",
    "\r\n",
    "println(\"Liczba iteracji: \", i)\r\n",
    "println(\"Wektor x wynikowy: \", pts[end])\r\n",
    "println(\"Błąd: \", err[end])"
   ]
  },
  {
   "cell_type": "markdown",
   "metadata": {},
   "source": [
    "## Ackley test"
   ]
  },
  {
   "cell_type": "markdown",
   "metadata": {},
   "source": [
    "### setup"
   ]
  },
  {
   "cell_type": "code",
   "execution_count": 44,
   "metadata": {},
   "outputs": [
    {
     "data": {
      "text/plain": "∇f_ackley (generic function with 1 method)"
     },
     "execution_count": 44,
     "metadata": {},
     "output_type": "execute_result"
    }
   ],
   "source": [
    "\r\n",
    "x = fill(15.0,4)\r\n",
    "f = f_ackley\r\n",
    "∇f = ∇f_ackley"
   ]
  },
  {
   "cell_type": "code",
   "execution_count": 69,
   "metadata": {},
   "outputs": [
    {
     "data": {
      "text/plain": "810121.0"
     },
     "execution_count": 69,
     "metadata": {},
     "output_type": "execute_result"
    }
   ],
   "source": [
    "∇f(x)\r\n",
    "f(x)"
   ]
  },
  {
   "cell_type": "code",
   "execution_count": 68,
   "metadata": {},
   "outputs": [
    {
     "name": "stdout",
     "output_type": "stream",
     "text": [
      "Liczba iteracji: 101\n",
      "Wektor x wynikowy: [-9.999999632741533, 10.00000001836188]\n",
      "Błąd: 810120.8674483662\n"
     ]
    }
   ],
   "source": [
    "# weird stuff happens here\r\n",
    "momentum = Momentum(0.00000000000001, 0.01, length(x))\r\n",
    "pts, err, i = optimalize(f, ∇f, x, momentum, 0.01, 100)\r\n",
    "println(\"Liczba iteracji: \", i)\r\n",
    "println(\"Wektor x wynikowy: \", pts[end])\r\n",
    "println(\"Błąd: \", err[end])"
   ]
  },
  {
   "cell_type": "markdown",
   "metadata": {},
   "source": [
    "### BFGS"
   ]
  },
  {
   "cell_type": "code",
   "execution_count": 47,
   "metadata": {},
   "outputs": [
    {
     "name": "stdout",
     "output_type": "stream",
     "text": [
      "Iteracja p=0\n",
      "Wektor x: [15.0, 15.0, 15.0, 15.0]\n",
      "Error: 19.00425863264272\n",
      "\n",
      "[0.049787068367817926, 0.049787068367817926, 0.049787068367817926, 0.049787068367817926]Iteracja p=1\n",
      "Wektor x: [14.998055192641882, 14.998055192641882, 14.998055192641882, 14.998055192641882]\n",
      "Error: 19.004074186734965\n",
      "\n",
      "[-0.0023643732097136175, -0.0023643732097136175, -0.0023643732097136175, -0.0023643732097136175]Iteracja p=2\n",
      "Wektor x: [14.998143363750417, 14.998143363750417, 14.998143363750417, 14.998143363750417]\n",
      "Error: 19.004073769716804\n",
      "\n",
      "[-4.395188207689804e-7, -4.395188207689804e-7, -4.395188207689804e-7, -4.395188207689804e-7]Iteracja p=3\n",
      "Wektor x: [14.998143380143796, 14.998143380143796, 14.998143380143796, 14.998143380143796]\n",
      "Error: 19.00407376971679\n",
      "\n",
      "[5.750448728303326e-12, 5.750448728303326e-12, 5.750448728303326e-12, 5.750448728303326e-12]Iteracja p=4\n",
      "Wektor x: [14.998143380143581, 14.998143380143581, 14.998143380143581, 14.998143380143581]\n",
      "Error: 19.00407376971679\n",
      "\n",
      "[-1.0297318553398327e-14, -1.0297318553398327e-14, -1.0297318553398327e-14, -1.0297318553398327e-14]Iteracja p=5\n",
      "Wektor x: [14.998143380143581, 14.998143380143581, 14.998143380143581, 14.998143380143581]\n",
      "Error: 19.00407376971679\n",
      "\n",
      "[-1.0297318553398327e-14, -1.0297318553398327e-14, -1.0297318553398327e-14, -1.0297318553398327e-14]Iteracja p=6\n",
      "Wektor x: [NaN, NaN, NaN, NaN]\n",
      "Error: NaN\n",
      "\n",
      "Liczba iteracji: 6\n",
      "Wektor x wynikowy: [NaN, NaN, NaN, NaN]\n",
      "Błąd: NaN\n"
     ]
    }
   ],
   "source": [
    "\r\n",
    "lbfgs = LBFGS(); init!(lbfgs, 1)\r\n",
    "pts, err, i = optimalize(f, ∇f, x, lbfgs, 0.0001, 100,true)\r\n",
    "println(\"Liczba iteracji: \", i)\r\n",
    "println(\"Wektor x wynikowy: \", pts[end])\r\n",
    "println(\"Błąd: \", err[end])"
   ]
  },
  {
   "cell_type": "markdown",
   "metadata": {},
   "source": [
    "## Test Wydajności"
   ]
  },
  {
   "cell_type": "code",
   "execution_count": 53,
   "metadata": {},
   "outputs": [
    {
     "data": {
      "text/plain": "∇f_rosenbrock (generic function with 1 method)"
     },
     "execution_count": 53,
     "metadata": {},
     "output_type": "execute_result"
    }
   ],
   "source": [
    "x = [-10.0, 10.0]\r\n",
    "f = f_rosenbrock\r\n",
    "∇f = ∇f_rosenbrock"
   ]
  },
  {
   "cell_type": "code",
   "execution_count": 57,
   "metadata": {},
   "outputs": [
    {
     "data": {
      "text/plain": "BenchmarkTools.Trial: \n  memory estimate:  58.16 KiB\n  allocs estimate:  724\n  --------------\n  minimum time:     88.700 μs (0.00% GC)\n  median time:      104.000 μs (0.00% GC)\n  mean time:        158.807 μs (7.99% GC)\n  maximum time:     12.998 ms (98.76% GC)\n  --------------\n  samples:          10000\n  evals/sample:     1"
     },
     "execution_count": 57,
     "metadata": {},
     "output_type": "execute_result"
    }
   ],
   "source": [
    "\r\n",
    "momentum = Momentum(0.00000000000001, 0.01, length(x))\r\n",
    "@benchmark pts, err, i = optimalize(f, ∇f, x, momentum, 0.01, 100)"
   ]
  },
  {
   "cell_type": "code",
   "execution_count": 58,
   "metadata": {},
   "outputs": [
    {
     "data": {
      "text/plain": "BenchmarkTools.Trial: \n  memory estimate:  17.34 KiB\n  allocs estimate:  225\n  --------------\n  minimum time:     21.499 μs (0.00% GC)\n  median time:      158.750 μs (0.00% GC)\n  mean time:        329.059 μs (10.31% GC)\n  maximum time:     71.063 ms (0.00% GC)\n  --------------\n  samples:          10000\n  evals/sample:     1"
     },
     "execution_count": 58,
     "metadata": {},
     "output_type": "execute_result"
    }
   ],
   "source": [
    "bfgs = BFGS(length(x))\r\n",
    "\r\n",
    "@benchmark pts, err, i = optimalize(f_rosenbrock, ∇f_rosenbrock, x, bfgs, 0.0001, 100, false)"
   ]
  },
  {
   "cell_type": "code",
   "execution_count": 67,
   "metadata": {},
   "outputs": [
    {
     "data": {
      "text/plain": "BenchmarkTools.Trial: \n  memory estimate:  628.20 KiB\n  allocs estimate:  15060\n  --------------\n  minimum time:     607.500 μs (0.00% GC)\n  median time:      731.700 μs (0.00% GC)\n  mean time:        1.471 ms (9.27% GC)\n  maximum time:     17.397 ms (95.02% GC)\n  --------------\n  samples:          3345\n  evals/sample:     1"
     },
     "execution_count": 67,
     "metadata": {},
     "output_type": "execute_result"
    }
   ],
   "source": [
    "lbfgs = LBFGS(); init!(lbfgs, 1)\r\n",
    "@benchmark pts, err, i = optimalize(f_rosenbrock, ∇f_rosenbrock, x, lbfgs, 0.0001, 100)"
   ]
  },
  {
   "cell_type": "code",
   "execution_count": 65,
   "metadata": {},
   "outputs": [
    {
     "data": {
      "text/plain": "BenchmarkTools.Trial: \n  memory estimate:  628.94 KiB\n  allocs estimate:  15075\n  --------------\n  minimum time:     607.300 μs (0.00% GC)\n  median time:      697.699 μs (0.00% GC)\n  mean time:        1.125 ms (10.97% GC)\n  maximum time:     14.616 ms (91.28% GC)\n  --------------\n  samples:          4341\n  evals/sample:     1"
     },
     "execution_count": 65,
     "metadata": {},
     "output_type": "execute_result"
    }
   ],
   "source": [
    "lbfgs = LBFGS(); init!(lbfgs, 2)\r\n",
    "\r\n",
    "@benchmark pts, err, i = optimalize(f_rosenbrock, ∇f_rosenbrock, x, lbfgs, 0.0001, 100)"
   ]
  },
  {
   "cell_type": "code",
   "execution_count": 63,
   "metadata": {},
   "outputs": [
    {
     "data": {
      "text/plain": "BenchmarkTools.Trial: \n  memory estimate:  629.67 KiB\n  allocs estimate:  15090\n  --------------\n  minimum time:     641.300 μs (0.00% GC)\n  median time:      949.149 μs (0.00% GC)\n  mean time:        2.135 ms (7.94% GC)\n  maximum time:     34.703 ms (84.43% GC)\n  --------------\n  samples:          2282\n  evals/sample:     1"
     },
     "execution_count": 63,
     "metadata": {},
     "output_type": "execute_result"
    }
   ],
   "source": [
    "lbfgs = LBFGS(); init!(lbfgs, 3)\r\n",
    "\r\n",
    "@benchmark pts, err, i = optimalize(f_rosenbrock, ∇f_rosenbrock, x, lbfgs, 0.0001, 100)"
   ]
  }
 ],
 "metadata": {
  "kernelspec": {
   "display_name": "Julia 1.5.3",
   "language": "julia",
   "name": "julia-1.5"
  },
  "language_info": {
   "file_extension": ".jl",
   "mimetype": "application/julia",
   "name": "julia",
   "version": "1.5.3"
  }
 },
 "nbformat": 4,
 "nbformat_minor": 4
}