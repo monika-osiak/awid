{
 "cells": [
  {
   "cell_type": "code",
   "execution_count": null,
   "metadata": {},
   "outputs": [],
   "source": [
    "import LinearAlgebra: I, ⋅\r\n",
    "import Base.MathConstants: φ, pi\r\n",
    "import Base: cos ,Iterators\r\n",
    "import Statistics: mean\r\n",
    "import FiniteDifferences\r\n",
    "abstract type DescentMethod end"
   ]
  },
  {
   "cell_type": "code",
   "execution_count": null,
   "metadata": {},
   "outputs": [],
   "source": [
    "using PyPlot\r\n",
    "using BenchmarkTools\r\n",
    "using Zygote"
   ]
  },
  {
   "cell_type": "markdown",
   "metadata": {},
   "source": [
    "# Metody optymalizacji"
   ]
  },
  {
   "cell_type": "markdown",
   "metadata": {},
   "source": [
    "## Metoda najszybszego spadku z bezwładnością"
   ]
  },
  {
   "cell_type": "code",
   "execution_count": null,
   "metadata": {},
   "outputs": [],
   "source": [
    "mutable struct Momentum <: DescentMethod\r\n",
    "  α # learning rate\r\n",
    "  β # momentum decay\r\n",
    "  v # momentum\r\n",
    "end\r\n",
    "\r\n",
    "Momentum(α, β, n::Integer) = Momentum(α, β, zeros(n))\r\n",
    "\r\n",
    "function step!(M::Momentum, f, ∇f, x) \r\n",
    "  α, β, v, g = M.α, M.β, M.v, ∇f(x)\r\n",
    "    println(\"Gradient: \", g)\r\n",
    "  v[:] = β*v .- α*g\r\n",
    "  return x + v\r\n",
    "end"
   ]
  },
  {
   "cell_type": "markdown",
   "metadata": {},
   "source": [
    "## BFGS"
   ]
  },
  {
   "cell_type": "code",
   "execution_count": null,
   "metadata": {},
   "outputs": [],
   "source": [
    "mutable struct BFGS <: DescentMethod\n",
    "  Q\n",
    "end\n",
    "BFGS(n::Integer) = BFGS(Matrix(1.0I, n, n))\n",
    "\n",
    "function strong_backtracking(f, ∇, x, d; α=1, β=1e-4, σ=0.1)\n",
    "  y0, g0, y_prev, α_prev = f(x), ∇(x)⋅d, NaN, 0\n",
    "  αlo, αhi = NaN, NaN\n",
    "  # bracket phase\n",
    "  while true\n",
    "    y = f(x + α*d)\n",
    "    if y > y0 + β*α*g0 || (!isnan(y_prev) && y ≥ y_prev)\n",
    "      αlo, αhi = α_prev, α\n",
    "      break\n",
    "    end\n",
    "    g = ∇(x + α*d)⋅d\n",
    "    if abs(g) ≤ -σ*g0\n",
    "      return α\n",
    "    elseif g ≥ 0\n",
    "      αlo, αhi = α, α_prev\n",
    "      break\n",
    "    end\n",
    "    y_prev, α_prev, α = y, α, 2α\n",
    "  end\n",
    "  # zoom phase\n",
    "  ylo = f(x + αlo*d)\n",
    "  while true\n",
    "    α = (αlo + αhi)/2\n",
    "    y = f(x + α*d)\n",
    "    if y > y0 + β*α*g0 || y ≥ ylo\n",
    "      αhi = α\n",
    "    else\n",
    "      g = ∇(x + α*d)⋅d\n",
    "      if abs(g) ≤ -σ*g0\n",
    "        return α\n",
    "      elseif g*(αhi - αlo) ≥ 0\n",
    "        αhi = αlo\n",
    "      end\n",
    "      αlo = α\n",
    "    end\n",
    "  end\n",
    "end\n",
    "\n",
    "function step!(M::BFGS, f, ∇f, x)\n",
    "  if f(x) ≈ 0.0\n",
    "    return x\n",
    "  end\n",
    "\n",
    "  Q, g = M.Q, ∇f(x)\n",
    "  α = strong_backtracking(f, ∇f, x, -Q*g)\n",
    "  x′ = x + α*(-Q*g)\n",
    "  g′ = ∇f(x′)\n",
    "  δ = x′ - x\n",
    "  γ = g′ - g\n",
    "  Q[:] = Q - (δ*γ'*Q + Q*γ*δ')/(δ'*γ) + (1 + (γ'*Q*γ)/(δ'*γ))[1]*(δ*δ')/(δ'*γ)\n",
    "  return x′\n",
    "end"
   ]
  },
  {
   "cell_type": "markdown",
   "metadata": {},
   "source": [
    "## L-BFGS"
   ]
  },
  {
   "cell_type": "code",
   "execution_count": null,
   "metadata": {},
   "outputs": [],
   "source": [
    "using LinearAlgebra\n",
    "\n",
    "mutable struct LBFGS\n",
    "  m\n",
    "  δs\n",
    "  γs\n",
    "  qs\n",
    "  LBFGS() = new()\n",
    "end\n",
    "\n",
    "function init!(M::LBFGS, m) \n",
    "  M.m = m\n",
    "  M.δs = [] \n",
    "  M.γs = [] \n",
    "  M.qs = []\n",
    "  return M\n",
    "end\n",
    "\n",
    "function step!(M::LBFGS, f, ∇f, θ) \n",
    "    δs, γs, qs = M.δs, M.γs, M.qs \n",
    "    m, g = length(δs), ∇f(θ)\n",
    "    d = -g # kierunek\n",
    "    if m > 0 \n",
    "        q = g\n",
    "        for i in m:-1:1\n",
    "            qs[i] = copy(q)\n",
    "            q -= (δs[i]⋅q) / (γs[i]⋅δs[i]) * γs[i]\n",
    "        end\n",
    "        z = (γs[m] .* δs[m] .* q) / (γs[m]⋅γs[m]) \n",
    "        for i in 1:+1:m\n",
    "            z += δs[i]*(δs[i]⋅qs[i]-γs[i]⋅z)/(γs[i]⋅δs[i]) \n",
    "        end\n",
    "        d = -z; # rekonstrukcja kierunku\n",
    "    end\n",
    "    φ =α-> f(θ+α*d); φ′=α->∇f(θ+α*d)⋅d \n",
    "    α = line_search(φ, φ′, d)\n",
    "    θ′ = θ + α*d; g′ = ∇f(θ′) # nowy wektor\n",
    "    δ =θ′-θ;γ =g′-g\n",
    "    push!(δs, δ); push!(γs, γ); push!(qs, zero(θ)) \n",
    "    while length(δs) > M.m\n",
    "        popfirst!(δs); popfirst!(γs); popfirst!(qs) \n",
    "    end\n",
    "    return θ′ \n",
    "end"
   ]
  },
  {
   "cell_type": "code",
   "execution_count": null,
   "metadata": {},
   "outputs": [],
   "source": [
    "function zoom(φ, φ′, αlo, αhi, c1=1e-4, c2=0.1, jmax=1000)\n",
    "    φ′0 = φ′(0.0) \n",
    "    for j=1:jmax\n",
    "        αj = 0.5(αlo + αhi) # bisection \n",
    "        φαj = φ(αj)\n",
    "        if φαj > φ(0.0) + c1*αj*φ′0 || φαj ≥ φ(αlo)\n",
    "            αhi = αj \n",
    "        else\n",
    "            φ′αj = φ′(αj)\n",
    "            if abs(φ′αj) ≤ -c2*φ′0\n",
    "                return αj\n",
    "            end\n",
    "            if φ′αj*(αhi - αlo) ≥ 0.0 \n",
    "                αhi = αlo\n",
    "            end\n",
    "            αlo = αj \n",
    "        end\n",
    "    end\n",
    "    return 0.5(αlo + αhi) \n",
    "end\n",
    "\n",
    "function line_search(φ, φ′, d, c1=1e-4, c2=0.1, ρ=0.1, αmax=100., jmax=1000)\n",
    "    αi, αj = 0.0, 1.0\n",
    "    φαi, φ0, φ′0 = φ(αi), φ(0.0), φ′(0.0) \n",
    "    for j=1:jmax\n",
    "        φαj = φ(αj)\n",
    "        if φαj > φ0 + c1*αj*φ′0 || (φαj ≥ φαi && j > 1)\n",
    "            return zoom(φ, φ′, αi, αj)\n",
    "        end\n",
    "        φ′αj = φ′(αj)\n",
    "        if abs(φ′αj) ≤ -c2*φ′0\n",
    "            return αj \n",
    "        end\n",
    "        if φ′αj ≥ 0.0\n",
    "            return zoom(φ, φ′, αj, αi)\n",
    "        end\n",
    "        αi, αj = αj, ρ*αj + (1.0 - ρ)*αmax\n",
    "        φαi = φαj \n",
    "    end\n",
    "    return αj \n",
    "end"
   ]
  },
  {
   "cell_type": "markdown",
   "metadata": {},
   "source": [
    "# Test Set up"
   ]
  },
  {
   "cell_type": "markdown",
   "metadata": {},
   "source": [
    "## Functions"
   ]
  },
  {
   "cell_type": "code",
   "execution_count": null,
   "metadata": {},
   "outputs": [],
   "source": [
    "f_beale(x) = (1.5 - x[1] + x[1]*x[2])^2 + (2.25 - x[1] + x[1]*x[2]^2)^2 + (2.625 - x[1] + x[1]*x[2]^3)^2\r\n",
    "∇f_beale(x) = [\r\n",
    "    2*x[1]*(x[2]^6 + x[2]^4 - 2*x[2]^3 - x[2]^2 - 2*x[2] + 3) + 5.25*x[2]^3 + 4.5*x[2]^2 + 3*x[2] - 12.75, \r\n",
    "    6*x[1]*(x[1]*(x[2]^5 + 0.666667*x[2]^3 - x[2]^2 - 0.333333*x[2] - 0.333333) + 2.625*x[2]^2 + 1.5x[2] + 0.5)\r\n",
    "]\r\n",
    "\r\n",
    "f_rosenbrock(x)  = 100*(x[2] - x[1]^2)^2 + (1-x[1])^2\r\n",
    "∇f_rosenbrock(x) = [\r\n",
    "    400x[1]^3 - 400x[1]*x[2] + 2x[1] - 2,\r\n",
    "    200x[2] - 200x[1]^2\r\n",
    "]\r\n",
    "# a = 20, b = 0.2 and c = 2π.\r\n",
    "f_ackley(x, a=20,b=0.2,c = 2 * pi) = -a * exp(-b * sqrt(mean(x.^2))) - exp( mean( cos.(c .* x))) + a + exp(1)\r\n",
    "∇f_ackley(x) = f_ackley'(x)\r\n",
    "\r\n",
    "x = [3.0, 2.4]"
   ]
  },
  {
   "cell_type": "markdown",
   "metadata": {},
   "source": [
    "# Test"
   ]
  },
  {
   "cell_type": "code",
   "execution_count": 113,
   "metadata": {},
   "outputs": [
    {
     "data": {
      "text/plain": "optimalize (generic function with 2 methods)"
     },
     "execution_count": 113,
     "metadata": {},
     "output_type": "execute_result"
    }
   ],
   "source": [
    "function optimalize(f, ∇f, x₀, opt, e, i, debug=false)\r\n",
    "    pts = [x₀] # kolejne wektory x\r\n",
    "    err = Float64[] # kolejne wartości f. straty\r\n",
    "    p = 0\r\n",
    "    while true\r\n",
    "        push!(err, f(pts[end])) # odłóż wynik funkcji dla najnowszego wektora x (miara błędu)\r\n",
    "        if debug \r\n",
    "            println(\"Iteracja p=\", p)\r\n",
    "            println(\"Wektor x: \", pts[end])\r\n",
    "            println(\"Error: \", err[end])\r\n",
    "            println()\r\n",
    "        end\r\n",
    "        if f(pts[end]) < e || p > i\r\n",
    "            break\r\n",
    "        end\r\n",
    "        push!(pts, step!(opt, f, ∇f, pts[end]))\r\n",
    "        p += 1\r\n",
    "    end\r\n",
    "    \r\n",
    "    pts, err, p\r\n",
    "end"
   ]
  },
  {
   "cell_type": "code",
   "execution_count": 117,
   "metadata": {},
   "outputs": [
    {
     "name": "stdout",
     "output_type": "stream",
     "text": [
      "Ilość iteracji: 101\n",
      "Wektor x wynikowy: [NaN, NaN]\n",
      "Błąd: NaN\n",
      "Trial(20.099 μs)\n"
     ]
    }
   ],
   "source": [
    "bfgs = BFGS(2)\r\n",
    "\r\n",
    "info = @benchmark pts, err, i = optimalize(f_rosenbrock, ∇f_rosenbrock, x, bfgs, 0.0001, 100)\r\n",
    "println(\"Ilość iteracji: \", i)\r\n",
    "println(\"Wektor x wynikowy: \", pts[end])\r\n",
    "println(\"Błąd: \", err[end])\r\n",
    "println(info)"
   ]
  },
  {
   "cell_type": "code",
   "execution_count": null,
   "metadata": {},
   "outputs": [],
   "source": [
    "lbfgs = LBFGS(); init!(lbfgs, 7)\r\n",
    "\r\n",
    "@benchmark pts, err, i = optimalize(f_rosenbrock, ∇f_rosenbrock, x, lbfgs, 0.0001, 100)\r\n",
    "println(\"Ilość iteracji: \", i)\r\n",
    "println(\"Wektor x wynikowy: \", pts[end])\r\n",
    "println(\"Błąd: \", err[end])"
   ]
  },
  {
   "cell_type": "code",
   "execution_count": null,
   "metadata": {},
   "outputs": [],
   "source": [
    "# weird stuff happens here\r\n",
    "momentum = Momentum(0.00000000000001, 0.01, 2)\r\n",
    "\r\n",
    "@benchmark pts, err, i = optimalize(f_rosenbrock, ∇f_rosenbrock, x, momentum, 0.01, 100)\r\n",
    "\r\n",
    "println(\"Ilość iteracji: \", i)\r\n",
    "println(\"Wektor x wynikowy: \", pts[end])\r\n",
    "println(\"Błąd: \", err[end])"
   ]
  },
  {
   "cell_type": "markdown",
   "metadata": {},
   "source": [
    "## Ackley test"
   ]
  },
  {
   "cell_type": "markdown",
   "metadata": {},
   "source": [
    "### BFGS"
   ]
  },
  {
   "cell_type": "code",
   "execution_count": null,
   "metadata": {},
   "outputs": [],
   "source": [
    "dimensions = 1:5\r\n",
    "\r\n",
    "x = [3.0, 2.4]\r\n",
    "\r\n",
    "dim = 1\r\n",
    "f = f_ackley\r\n",
    "∇f = ∇f_ackley\r\n",
    "lbfgs = LBFGS(); init!(lbfgs, 1)\r\n",
    "pts, err, i = optimalize(f, ∇f, x[1:dim], lbfgs, 0.0001, 100)\r\n",
    "println(\"Liczba iteracji: \", i)\r\n",
    "println(\"Wektor x wynikowy: \", pts[end])\r\n",
    "println(\"Błąd: \", err[end])"
   ]
  }
 ],
 "metadata": {
  "kernelspec": {
   "display_name": "Julia 1.5.3",
   "language": "julia",
   "name": "julia-1.5"
  },
  "language_info": {
   "name": "julia",
   "version": ""
  }
 },
 "nbformat": 4,
 "nbformat_minor": 4
}