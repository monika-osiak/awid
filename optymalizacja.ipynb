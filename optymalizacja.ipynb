{
 "cells": [
  {
   "cell_type": "code",
   "execution_count": 1,
   "metadata": {},
   "outputs": [],
   "source": [
    "import LinearAlgebra: I, ⋅\n",
    "import Base.MathConstants: φ\n",
    "abstract type DescentMethod end"
   ]
  },
  {
   "cell_type": "markdown",
   "metadata": {},
   "source": [
    "# Metody optymalizacji"
   ]
  },
  {
   "cell_type": "markdown",
   "metadata": {},
   "source": [
    "## Metoda najszybszego spadku z bezwładnością"
   ]
  },
  {
   "cell_type": "code",
   "execution_count": 2,
   "metadata": {},
   "outputs": [
    {
     "data": {
      "text/plain": [
       "step! (generic function with 1 method)"
      ]
     },
     "execution_count": 2,
     "metadata": {},
     "output_type": "execute_result"
    }
   ],
   "source": [
    "mutable struct Momentum <: DescentMethod\n",
    "  α # learning rate\n",
    "  β # momentum decay\n",
    "  v # momentum\n",
    "end\n",
    "Momentum(α, β, n::Integer) = Momentum(α, β, zeros(n))\n",
    "\n",
    "function step!(M::Momentum, f, ∇f, x) \n",
    "  α, β, v, g = M.α, M.β, M.v, ∇f(x)\n",
    "  v[:] = β*v .- α*g\n",
    "  return x + v\n",
    "end"
   ]
  },
  {
   "cell_type": "markdown",
   "metadata": {},
   "source": [
    "## BFGS"
   ]
  },
  {
   "cell_type": "code",
   "execution_count": 3,
   "metadata": {},
   "outputs": [
    {
     "data": {
      "text/plain": [
       "step! (generic function with 2 methods)"
      ]
     },
     "execution_count": 3,
     "metadata": {},
     "output_type": "execute_result"
    }
   ],
   "source": [
    "mutable struct BFGS <: DescentMethod\n",
    "  Q\n",
    "end\n",
    "BFGS(n::Integer) = BFGS(Matrix(1.0I, n, n))\n",
    "\n",
    "function strong_backtracking(f, ∇, x, d; α=1, β=1e-4, σ=0.1)\n",
    "  y0, g0, y_prev, α_prev = f(x), ∇(x)⋅d, NaN, 0\n",
    "  αlo, αhi = NaN, NaN\n",
    "  # bracket phase\n",
    "  while true\n",
    "    y = f(x + α*d)\n",
    "    if y > y0 + β*α*g0 || (!isnan(y_prev) && y ≥ y_prev)\n",
    "      αlo, αhi = α_prev, α\n",
    "      break\n",
    "    end\n",
    "    g = ∇(x + α*d)⋅d\n",
    "    if abs(g) ≤ -σ*g0\n",
    "      return α\n",
    "    elseif g ≥ 0\n",
    "      αlo, αhi = α, α_prev\n",
    "      break\n",
    "    end\n",
    "    y_prev, α_prev, α = y, α, 2α\n",
    "  end\n",
    "  # zoom phase\n",
    "  ylo = f(x + αlo*d)\n",
    "  while true\n",
    "    α = (αlo + αhi)/2\n",
    "    y = f(x + α*d)\n",
    "    if y > y0 + β*α*g0 || y ≥ ylo\n",
    "      αhi = α\n",
    "    else\n",
    "      g = ∇(x + α*d)⋅d\n",
    "      if abs(g) ≤ -σ*g0\n",
    "        return α\n",
    "      elseif g*(αhi - αlo) ≥ 0\n",
    "        αhi = αlo\n",
    "      end\n",
    "      αlo = α\n",
    "    end\n",
    "  end\n",
    "end\n",
    "\n",
    "function step!(M::BFGS, f, ∇f, x)\n",
    "  if f(x) ≈ 0.0\n",
    "    return x\n",
    "  end\n",
    "\n",
    "  Q, g = M.Q, ∇f(x)\n",
    "  α = strong_backtracking(f, ∇f, x, -Q*g)\n",
    "  x′ = x + α*(-Q*g)\n",
    "  g′ = ∇f(x′)\n",
    "  δ = x′ - x\n",
    "  γ = g′ - g\n",
    "  Q[:] = Q - (δ*γ'*Q + Q*γ*δ')/(δ'*γ) + (1 + (γ'*Q*γ)/(δ'*γ))[1]*(δ*δ')/(δ'*γ)\n",
    "  return x′\n",
    "end"
   ]
  },
  {
   "cell_type": "markdown",
   "metadata": {},
   "source": [
    "## L-BFGS"
   ]
  },
  {
   "cell_type": "code",
   "execution_count": 6,
   "metadata": {},
   "outputs": [
    {
     "data": {
      "text/plain": [
       "step! (generic function with 3 methods)"
      ]
     },
     "execution_count": 6,
     "metadata": {},
     "output_type": "execute_result"
    }
   ],
   "source": [
    "using LinearAlgebra\n",
    "\n",
    "mutable struct LBFGS\n",
    "  m\n",
    "  δs\n",
    "  γs\n",
    "  qs\n",
    "  LBFGS() = new()\n",
    "end\n",
    "\n",
    "function init!(M::LBFGS, m) \n",
    "  M.m = m\n",
    "  M.δs = [] \n",
    "  M.γs = [] \n",
    "  M.qs = []\n",
    "  return M\n",
    "end\n",
    "\n",
    "function step!(M::LBFGS, f, ∇f, θ) \n",
    "    δs, γs, qs = M.δs, M.γs, M.qs \n",
    "    m, g = length(δs), ∇f(θ)\n",
    "    d = -g\n",
    "    if m > 0 \n",
    "        q = g\n",
    "        for i in m:-1:1\n",
    "            qs[i] = copy(q)\n",
    "            q -= (δs[i]⋅q) / (γs[i]⋅δs[i]) * γs[i]\n",
    "        end\n",
    "        z = (γs[m] .* δs[m] .* q) / (γs[m]⋅γs[m]) \n",
    "        for i in 1:+1:m\n",
    "            z += δs[i]*(δs[i]⋅qs[i]-γs[i]⋅z)/(γs[i]⋅δs[i]) \n",
    "        end\n",
    "        d = -z;\n",
    "    end\n",
    "    φ =α-> f(θ+α*d); φ′=α->∇f(θ+α*d)⋅d \n",
    "    α = line_search(φ, φ′, d)\n",
    "    θ′ = θ + α*d; g′ = ∇f(θ′)\n",
    "    δ =θ′-θ;γ =g′-g\n",
    "    push!(δs, δ); push!(γs, γ); push!(qs, zero(θ)) \n",
    "    while length(δs) > M.m\n",
    "        popfirst!(δs); popfirst!(γs); popfirst!(qs) \n",
    "    end\n",
    "    return θ′ \n",
    "end"
   ]
  },
  {
   "cell_type": "code",
   "execution_count": 9,
   "metadata": {},
   "outputs": [
    {
     "data": {
      "text/plain": [
       "line_search (generic function with 6 methods)"
      ]
     },
     "execution_count": 9,
     "metadata": {},
     "output_type": "execute_result"
    }
   ],
   "source": [
    "function zoom(φ, φ′, αlo, αhi, c1=1e-4, c2=0.1, jmax=1000)\n",
    "    φ′0 = φ′(0.0) \n",
    "    for j=1:jmax\n",
    "        αj = 0.5(αlo + αhi) # bisection \n",
    "        φαj = φ(αj)\n",
    "        if φαj > φ(0.0) + c1*αj*φ′0 || φαj ≥ φ(αlo)\n",
    "            αhi = αj \n",
    "        else\n",
    "            φ′αj = φ′(αj)\n",
    "            if abs(φ′αj) ≤ -c2*φ′0\n",
    "                return αj\n",
    "            end\n",
    "            if φ′αj*(αhi - αlo) ≥ 0.0 \n",
    "                αhi = αlo\n",
    "            end\n",
    "            αlo = αj \n",
    "        end\n",
    "    end\n",
    "    return 0.5(αlo + αhi) \n",
    "end\n",
    "\n",
    "function line_search(φ, φ′, d, c1=1e-4, c2=0.1, ρ=0.1, αmax=100., jmax=1000)\n",
    "    αi, αj = 0.0, 1.0\n",
    "    φαi, φ0, φ′0 = φ(αi), φ(0.0), φ′(0.0) \n",
    "    for j=1:jmax\n",
    "        φαj = φ(αj)\n",
    "        if φαj > φ0 + c1*αj*φ′0 || (φαj ≥ φαi && j > 1)\n",
    "            return zoom(φ, φ′, αi, αj)\n",
    "        end\n",
    "        φ′αj = φ′(αj)\n",
    "        if abs(φ′αj) ≤ -c2*φ′0\n",
    "            return αj \n",
    "        end\n",
    "        if φ′αj ≥ 0.0\n",
    "            return zoom(φ, φ′, αj, αi)\n",
    "        end\n",
    "        αi, αj = αj, ρ*αj + (1.0 - ρ)*αmax\n",
    "        φαi = φαj \n",
    "    end\n",
    "    return αj \n",
    "end"
   ]
  },
  {
   "cell_type": "markdown",
   "metadata": {},
   "source": [
    "# Test"
   ]
  },
  {
   "cell_type": "code",
   "execution_count": 13,
   "metadata": {},
   "outputs": [
    {
     "data": {
      "text/plain": [
       "25-element Vector{Float64}:\n",
       "  62.419999999999966\n",
       "   0.3732411295430105\n",
       "   0.1369415961360804\n",
       "   0.1369096273023483\n",
       "   0.13592323378462406\n",
       "   0.12719491283882386\n",
       "   0.07408494998556142\n",
       "   0.04240542587137532\n",
       "   0.02190717330656185\n",
       "   0.007288189390724729\n",
       "   0.0027823174414058254\n",
       "   0.0003942493679093454\n",
       "   3.1689619508268084e-5\n",
       "   4.926848029693371e-7\n",
       "   5.68382215313125e-10\n",
       "   2.2067479397409333e-12\n",
       "   1.5991571708620067e-19\n",
       "   1.3064843141334228e-24\n",
       "   4.9747540835500057e-29\n",
       "   4.35845650134609e-29\n",
       "   3.988677952023741e-29\n",
       "   3.865418435582958e-29\n",
       "   3.865418435582958e-29\n",
       " NaN\n",
       " NaN"
      ]
     },
     "execution_count": 13,
     "metadata": {},
     "output_type": "execute_result"
    }
   ],
   "source": [
    "function main()\n",
    "    f(x)  = 100*(x[2] - x[1]^2)^2 + (1-x[1])^2 # funkcja\n",
    "    ∇f(x) = [400x[1]^3 - 400x[1]*x[2] + 2x[1] - 2,\n",
    "        200x[2] - 200x[1]^2] # pochodne\n",
    "    \n",
    "    x₀  = [1.1, 2.0] # wektor początkowy x\n",
    "    pts = [x₀] # tutaj zbieramy kolejne wektory x\n",
    "    val = Float64[] # tutaj zbieramy wartości f. straty\n",
    "    # opt = BFGS(2) # optymalizator\n",
    "    # opt = Momentum(0.001, 0.00001, 2)\n",
    "    opt = LBFGS()\n",
    "    init!(opt, 7)\n",
    "    for i=1:25\n",
    "        push!(val, f(pts[end])) # odłóż wynik funkcji dla najnowszych x (chcemy żeby 0)\n",
    "        push!(pts, step!(opt, f, ∇f, pts[end])) # odłóż nowe x - nowe x to wynik step\n",
    "    end\n",
    "\n",
    "    pts, val\n",
    "end\n",
    "\n",
    "pts, val = main()\n",
    "val"
   ]
  },
  {
   "cell_type": "code",
   "execution_count": 11,
   "metadata": {},
   "outputs": [
    {
     "data": {
      "text/plain": [
       "26-element Vector{Vector{Float64}}:\n",
       " [1.1, 2.0]\n",
       " [1.354443359375, 1.88427734375]\n",
       " [1.3696997557884254, 1.8777012643061441]\n",
       " [1.3698555407211217, 1.8775835832864833]\n",
       " [1.3685749057239072, 1.8719549761515042]\n",
       " [1.3444778266452033, 1.7983500776632715]\n",
       " [1.344477826645203, 1.798350077663271]\n",
       " [1.3442677972680435, 1.8069572892929144]\n",
       " [1.2135694301902444, 1.4732301990300947]\n",
       " [1.1706245106449156, 1.3630899428031158]\n",
       " [1.1706245106449156, 1.363089942803116]\n",
       " [1.141384081851863, 1.3063844275313499]\n",
       " [1.064831823739329, 1.130496653869105]\n",
       " [1.035528843354047, 1.067444652229225]\n",
       " [1.035528843354047, 1.067444652229225]\n",
       " [NaN, NaN]\n",
       " [NaN, NaN]\n",
       " [NaN, NaN]\n",
       " [NaN, NaN]\n",
       " [NaN, NaN]\n",
       " [NaN, NaN]\n",
       " [NaN, NaN]\n",
       " [NaN, NaN]\n",
       " [NaN, NaN]\n",
       " [NaN, NaN]\n",
       " [NaN, NaN]"
      ]
     },
     "execution_count": 11,
     "metadata": {},
     "output_type": "execute_result"
    }
   ],
   "source": [
    "pts"
   ]
  },
  {
   "cell_type": "code",
   "execution_count": null,
   "metadata": {},
   "outputs": [],
   "source": []
  }
 ],
 "metadata": {
  "kernelspec": {
   "display_name": "Julia 1.6.1",
   "language": "julia",
   "name": "julia-1.6"
  },
  "language_info": {
   "file_extension": ".jl",
   "mimetype": "application/julia",
   "name": "julia",
   "version": "1.6.1"
  }
 },
 "nbformat": 4,
 "nbformat_minor": 4
}
