{
 "cells": [
  {
   "cell_type": "code",
   "execution_count": 33,
   "metadata": {},
   "outputs": [
    {
     "data": {
      "application/x.notebook.stdout": "\n;  @ In[33]:7 within `f_ackley'\n; Function Attrs: uwtable\ndefine double @julia_f_ackley_5923(%jl_value_t* nonnull align 16 dereferenceable(40)) #0 {\ntop:\n  %1 = call double @j_f_ackley_5924(%jl_value_t* nonnull %0, i64 20, double 2.000000e-01, double 0x401921FB54442D18) #0\n  ret double %1\n}\n"
     },
     "output_type": "unknown"
    }
   ],
   "source": [
    "f_rosenbrock(x)  = 100*(x[2] - x[1]^2)^2 + (1-x[1])^2\r\n",
    "∇f_rosenbrock(x) = [\r\n",
    "    400x[1]^3 - 400x[1]*x[2] + 2x[1] - 2,\r\n",
    "    200x[2] - 200x[1]^2\r\n",
    "]:wait\r\n",
    "# a = 20, b = 0.2 and c = 2π.\r\n",
    "f_ackley(x, a=20,b=0.2,c = 2 * pi) = -a * exp(-b * sqrt(mean(x.^2))) - exp( mean( cos.(c .* x))) + a + exp(1)\r\n",
    "∇f_ackley(x) = f_ackley'(x)\r\n",
    "\r\n",
    "f_schwefel(x) = 418.9829 * x.length - sum(x .* sin)"
   ]
  }
 ],
 "metadata": {
  "kernelspec": {
   "display_name": "Julia 1.5.3",
   "name": "julia-1.5"
  },
  "language_info": {
   "name": "julia",
   "version": ""
  },
  "orig_nbformat": 2
 },
 "nbformat": 4,
 "nbformat_minor": 2
}