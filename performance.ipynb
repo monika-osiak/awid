{
 "cells": [
  {
   "cell_type": "code",
   "execution_count": 1,
   "metadata": {},
   "outputs": [],
   "source": [
    "import LinearAlgebra: I, ⋅\r\n",
    "import Base.MathConstants: φ, pi\r\n",
    "import Base: cos ,Iterators\r\n",
    "import Statistics: mean\r\n",
    "import FiniteDifferences\r\n",
    "abstract type DescentMethod end"
   ]
  },
  {
   "cell_type": "code",
   "execution_count": 3,
   "metadata": {},
   "outputs": [],
   "source": [
    "using PyPlot\r\n",
    "using BenchmarkTools\r\n",
    "using Zygote\r\n",
    "using NBInclude"
   ]
  },
  {
   "cell_type": "code",
   "execution_count": 22,
   "metadata": {},
   "outputs": [
    {
     "data": {
      "text/plain": "∇f_ackley (generic function with 2 methods)"
     },
     "execution_count": 22,
     "metadata": {},
     "output_type": "execute_result"
    }
   ],
   "source": [
    "f_rosenbrock(x)  = 100*(x[2] - x[1]^2)^2 + (1-x[1])^2\r\n",
    "∇f_rosenbrock(x) = [\r\n",
    "    400x[1]^3 - 400x[1]*x[2] + 2x[1] - 2,\r\n",
    "    200x[2] - 200x[1]^2\r\n",
    "]\r\n",
    "# a = 20, b = 0.2 and c = 2π.\r\n",
    "f_ackley(x::Array{Float64}, a=20.0,b=0.2,c = 2.0 * pi)::Float64 = -a * exp(-b * sqrt(mean(x.^2.0))) - exp( mean( cos.(c .* x))) + a + exp(1.0)\r\n",
    "∇f_ackley(x::Array{Float64}) = f_ackley'(x)\r\n",
    "\r\n",
    "# f_schwefel(x) = 418.9829 * x.length - sum(x .* sin)"
   ]
  },
  {
   "cell_type": "code",
   "execution_count": 1,
   "metadata": {},
   "outputs": [
    {
     "data": {
      "text/plain": "2-element Array{Float64,1}:\n 3.0\n 4.0"
     },
     "execution_count": 1,
     "metadata": {},
     "output_type": "execute_result"
    }
   ],
   "source": [
    "t = [3.0,4.0]"
   ]
  },
  {
   "cell_type": "code",
   "execution_count": 23,
   "metadata": {},
   "outputs": [
    {
     "data": {
      "text/plain": "BenchmarkTools.Trial: \n  memory estimate:  208 bytes\n  allocs estimate:  3\n  --------------\n  minimum time:     185.823 ns (0.00% GC)\n  median time:      197.561 ns (0.00% GC)\n  mean time:        259.304 ns (8.18% GC)\n  maximum time:     9.808 μs (97.69% GC)\n  --------------\n  samples:          10000\n  evals/sample:     656"
     },
     "execution_count": 23,
     "metadata": {},
     "output_type": "execute_result"
    }
   ],
   "source": [
    "@benchmark f_ackley(t)"
   ]
  },
  {
   "cell_type": "code",
   "execution_count": 9,
   "metadata": {},
   "outputs": [
    {
     "data": {
      "text/plain": "BenchmarkTools.Trial: \n  memory estimate:  208 bytes\n  allocs estimate:  3\n  --------------\n  minimum time:     184.871 ns (0.00% GC)\n  median time:      195.762 ns (0.00% GC)\n  mean time:        248.193 ns (8.43% GC)\n  maximum time:     9.641 μs (97.33% GC)\n  --------------\n  samples:          10000\n  evals/sample:     661"
     },
     "execution_count": 9,
     "metadata": {},
     "output_type": "execute_result"
    }
   ],
   "source": [
    "@benchmark f_ackley(t)"
   ]
  },
  {
   "cell_type": "code",
   "execution_count": null,
   "metadata": {},
   "outputs": [],
   "source": []
  },
  {
   "cell_type": "markdown",
   "metadata": {},
   "source": [
    "## Import functions from optymalizacja.ipynb"
   ]
  },
  {
   "cell_type": "code",
   "execution_count": 10,
   "metadata": {},
   "outputs": [
    {
     "ename": "LoadError",
     "evalue": "LoadError: \u001b[91mUndefVarError: i not defined\u001b[39m\nin expression starting at c:\\Users\\tooR\\Documents\\AA_Studia\\M_1_semestr\\awid\\projekt\\awid\\optymalizacja.ipynb:In[117]:4",
     "output_type": "error",
     "traceback": [
      "LoadError: \u001b[91mUndefVarError: i not defined\u001b[39m\nin expression starting at c:\\Users\\tooR\\Documents\\AA_Studia\\M_1_semestr\\awid\\projekt\\awid\\optymalizacja.ipynb:In[117]:4",
      "",
      "Stacktrace:",
      " [1] top-level scope at c:\\Users\\tooR\\Documents\\AA_Studia\\M_1_semestr\\awid\\projekt\\awid\\optymalizacja.ipynb:In[117]:4",
      " [2] include_string(::Function, ::Module, ::String, ::String) at .\\loading.jl:1088",
      " [3] include_string at .\\loading.jl:1096 [inlined]",
      " [4] my_include_string(::Module, ::String, ::String, ::Nothing, ::Bool) at C:\\Users\\tooR\\.julia\\packages\\NBInclude\\mNhzW\\src\\NBInclude.jl:29",
      " [5] nbinclude(::Module, ::String; renumber::Bool, counters::UnitRange{Int64}, regex::Regex, anshook::typeof(identity), softscope::Bool) at C:\\Users\\tooR\\.julia\\packages\\NBInclude\\mNhzW\\src\\NBInclude.jl:82",
      " [6] nbinclude(::Module, ::String) at C:\\Users\\tooR\\.julia\\packages\\NBInclude\\mNhzW\\src\\NBInclude.jl:53",
      " [7] top-level scope at In[10]:1",
      " [8] include_string(::Function, ::Module, ::String, ::String) at .\\loading.jl:1091"
     ]
    }
   ],
   "source": [
    "@nbinclude(\"optymalizacja.ipynb\")"
   ]
  },
  {
   "cell_type": "code",
   "execution_count": 117,
   "metadata": {},
   "outputs": [
    {
     "data": {
      "application/x.notebook.stdout": "Ilość iteracji: 101\nWektor x wynikowy: [NaN, NaN]\nBłąd: NaN\nTrial(20.099 μs)\n"
     },
     "output_type": "unknown"
    }
   ],
   "source": [
    "bfgs = BFGS(2)\r\n",
    "\r\n",
    "info = @benchmark pts, err, i = optimalize(f_rosenbrock, ∇f_rosenbrock, x, bfgs, 0.0001, 100)\r\n",
    "println(\"Ilość iteracji: \", i)\r\n",
    "println(\"Wektor x wynikowy: \", pts[end])\r\n",
    "println(\"Błąd: \", err[end])\r\n",
    "println(info)"
   ]
  },
  {
   "cell_type": "code",
   "execution_count": null,
   "metadata": {},
   "outputs": [],
   "source": [
    "lbfgs = LBFGS(); init!(lbfgs, 7)\r\n",
    "\r\n",
    "@benchmark pts, err, i = optimalize(f_rosenbrock, ∇f_rosenbrock, x, lbfgs, 0.0001, 100)\r\n",
    "println(\"Ilość iteracji: \", i)\r\n",
    "println(\"Wektor x wynikowy: \", pts[end])\r\n",
    "println(\"Błąd: \", err[end])"
   ]
  },
  {
   "cell_type": "code",
   "execution_count": null,
   "metadata": {},
   "outputs": [],
   "source": [
    "# weird stuff happens here\r\n",
    "momentum = Momentum(0.00000000000001, 0.01, 2)\r\n",
    "\r\n",
    "@benchmark pts, err, i = optimalize(f_rosenbrock, ∇f_rosenbrock, x, momentum, 0.01, 100)\r\n",
    "\r\n",
    "println(\"Ilość iteracji: \", i)\r\n",
    "println(\"Wektor x wynikowy: \", pts[end])\r\n",
    "println(\"Błąd: \", err[end])"
   ]
  },
  {
   "cell_type": "code",
   "execution_count": null,
   "metadata": {},
   "outputs": [],
   "source": [
    "dimensions = 1:5\r\n",
    "x = rand(dimensions[end])"
   ]
  },
  {
   "cell_type": "code",
   "execution_count": null,
   "metadata": {},
   "outputs": [],
   "source": [
    "println(\"X for this runn\")\r\n",
    "println(x)\r\n",
    "println(\"##\" * 2)\r\n",
    "dim = 1\r\n",
    "f = f_ackley\r\n",
    "∇f = ∇f_ackley\r\n",
    "lbfgs = LBFGS(); init!(lbfgs, 1)\r\n",
    "# pts, err, i = optimalize(f, ∇f, x[1:dim], lbfgs, 0.0001, 100)\r\n",
    "# println(\"Liczba iteracji: \", i)\r\n",
    "# println(\"Wektor x wynikowy: \", pts[end])\r\n",
    "# println(\"Błąd: \", err[end])\r\n",
    "@benchmark pts, err, i = optimalize(f, ∇f, x[1:dim], lbfgs, 0.0001, 100)"
   ]
  }
 ],
 "metadata": {
  "kernelspec": {
   "display_name": "Julia 1.5.3",
   "language": "julia",
   "name": "julia-1.5"
  },
  "language_info": {
   "file_extension": ".jl",
   "mimetype": "application/julia",
   "name": "julia",
   "version": "1.5.3"
  },
  "orig_nbformat": 2
 },
 "nbformat": 4,
 "nbformat_minor": 2
}